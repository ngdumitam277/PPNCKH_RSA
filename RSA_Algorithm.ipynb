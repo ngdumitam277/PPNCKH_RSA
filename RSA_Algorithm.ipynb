{
  "cells": [
    {
      "cell_type": "markdown",
      "metadata": {
        "id": "3RvCVtCTvRcc"
      },
      "source": [
        "# Mật mã bất đối xứng\n",
        "Mật mã khóa công khai, hay mật mã bất đối xứng, là một hệ thống mật mã sử dụng các cặp khóa gồm: \n",
        "+ Khóa công khai, có thể được phổ biến rộng rãi mà không ảnh hưởng đến bảo mật.\n",
        "+ Khóa riêng tư, chỉ được biết bởi chủ sở hữu. \n",
        "\n",
        "Trong một hệ thống, bất kỳ người nào cũng có thể mã hóa tin nhắn bằng khóa công khai, nhưng tin nhắn được mã hóa đó chỉ có thể được giải mã bằng khóa riêng của người nhận.\n",
        "\n",
        "Ngoài ra, người gửi có thể đính tin nhắn với khóa riêng tư để tạo chữ ký số trên tin nhắn. Bất kỳ ai có khóa công khai có tin nhắn trên và chữ ký số tương ứng để xác minh xem chữ ký có hợp lệ hay không, tức là do chủ sở hữu của khóa riêng tư tương ứng tạo.\n",
        "\n",
        "# Thuật toán RSA\n",
        "\n",
        "RSA (Rivest–Shamir–Adleman) là một trong những hệ thống mật mã khóa công khai đầu tiên và được sử dụng rộng rãi trong việc truyền dữ liệu an toàn. Từ viết tắt RSA là các chữ cái đầu trong họ của Ron Rivest, Adi Shamir và Leonard Adleman, những người đã mô tả công khai thuật toán này vào năm 1977. Trong đó, trong 1 hệ thống mật mã, khóa mã hóa là khóa công khai và khóa giải mã được giữ bí mật (riêng tư).\n",
        "\n",
        "Người dùng thuật toán RSA dựa trên hai số nguyên tố lớn và giá trị phụ trợ mà tạo khóa công khai và sau đó công khai khóa. Trong đó, các số nguyên tố phải được giữ bí mật. Bất kỳ ai cũng có thể sử dụng khóa công khai để mã hóa tin nhắn, nhưng chỉ người có biết về cặp số nguyên tố mới có thể giải mã tin nhắn. Tuy nhiên RSA vẫn có thể bị phá và được gọi là sự cố RSA. Nhưng ở thời điểm hiện tại, không có phương pháp nào có thể đánh bại hệ thống nếu hệ thống sử dụng khóa đủ lớn."
      ]
    },
    {
      "cell_type": "markdown",
      "source": [
        "## 1. Tiền xử lý: \n",
        "## 1.1. Thư viện sử dụng:"
      ],
      "metadata": {
        "id": "C-KlyKL_RAzQ"
      }
    },
    {
      "cell_type": "code",
      "source": [
        "import random\n",
        "import math"
      ],
      "metadata": {
        "id": "kPGDmhUDWqKv"
      },
      "execution_count": null,
      "outputs": []
    },
    {
      "cell_type": "markdown",
      "source": [
        "## 1.2. Chuyển đổi: chuỗi ký tự  <=> dãy số thập phân "
      ],
      "metadata": {
        "id": "s1JnUD7lWuNl"
      }
    },
    {
      "cell_type": "code",
      "source": [
        "# Hàm chuyển đổi 1 chuỗi ký tự  <=> 1 dãy số nguyên thập phân. Mục đích chuẩn hóa các chuỗi ký tự sang dãy số nguyên để mã hóa.\n",
        "# Input 1: (String) decStr: Chuỗi ký tự OR danh sách thập phân \n",
        "# Input 2: (int) flag: 0 = cờ chuyển sang danh sách thập phân, 1 = cờ chuyển sang chuỗi\n",
        "# Output: (list) Danh sách thập phân OR (String) Chuỗi ký tự\n",
        "def convertDecAndStr(decStr, flag):\n",
        "    decStr_list = []\n",
        "    if flag == 0:\n",
        "      for i in decStr: decStr_list.append(ord(i)) # Duyệt từng ký tự trong chuỗi ký tự chuyển sang từng số nguyên\n",
        "      return decStr_list\n",
        "    else:\n",
        "      for i in decStr: decStr_list.append(chr(i)) # Duyệt từng số nguyên trong danh sách số nguyên chuyển sang từng ký tự\n",
        "      return ''.join(decStr_list)\n",
        "\n",
        "# Hàm tìm ước chung lớn nhất 2 số a,b\n",
        "# Input: (Int) a: số nguyên a\n",
        "# Input: (Int) b: số nguyên b\n",
        "# Output:(Int) ước chung lớn nhất\n",
        "def gcd(a, b):\n",
        "    while a:\n",
        "        b, a = a, b % a\n",
        "    return b\n",
        "\n",
        "#---------------------------------------------------------------------------------\n",
        "print('Ví dụ: ')\n",
        "mes = '@12334Test a ba la trap'\n",
        "print('Văn bản gốc:\\n\\t', mes)\n",
        "\n",
        "dec = convertDecAndStr(mes, 0)\n",
        "print('Văn bản gốc => chuỗi thập phân:\\n\\t', dec)\n",
        "\n",
        "txt = convertDecAndStr(dec, 1)\n",
        "print('Chuỗi thập phân => Văn bản gốc:\\n\\t', txt)"
      ],
      "metadata": {
        "colab": {
          "base_uri": "https://localhost:8080/"
        },
        "id": "P7RTAt34RE7P",
        "outputId": "68b7e2ab-f271-43b7-d1de-fc2187e20837"
      },
      "execution_count": null,
      "outputs": [
        {
          "output_type": "stream",
          "name": "stdout",
          "text": [
            "Ví dụ: \n",
            "Văn bản gốc:\n",
            "\t @12334Test a ba la trap\n",
            "Văn bản gốc => chuỗi thập phân:\n",
            "\t [64, 49, 50, 51, 51, 52, 84, 101, 115, 116, 32, 97, 32, 98, 97, 32, 108, 97, 32, 116, 114, 97, 112]\n",
            "Chuỗi thập phân => Văn bản gốc:\n",
            "\t @12334Test a ba la trap\n"
          ]
        }
      ]
    },
    {
      "cell_type": "markdown",
      "metadata": {
        "id": "mrPGjGbAvRc4"
      },
      "source": [
        "## 1.3. Khởi tạo số nguyên tố LỚN\n",
        "Ý tưởng về RSA được dựa trên 1 thực tế là chúng ta rất khó để phân tích một số nguyên lớn. Khóa công khai bao gồm hai số trong đó có một số là phép nhân của hai số nguyên tố lớn. Và khóa riêng tư cũng được lấy từ hai số nguyên tố giống nhau. Vì vậy, nếu ai đó có thể phân tích được số lớn đó, thì khóa riêng tư sẽ bị xâm phạm. Do đó, độ mạnh của mã hóa hoàn toàn phụ thuộc vào kích thước khóa và nếu chúng ta tăng gấp đôi hoặc gấp ba kích thước khóa, độ mạnh của mã hóa sẽ tăng theo cấp số nhân. Các khóa RSA thường có độ dài 1024 hoặc 2048 bit, nhưng các chuyên gia tin rằng các khóa 1024 bit có thể bị phá vỡ trong tương lai gần. Tuy nhiên cho đến nay nó dường như là một nhiệm vụ bất khả thi.\n",
        "\n",
        "Với sàng của Eratosthenes và cách kiểm tra tính nguyên tố Rabin Miller. Ta sẽ khởi tạo số nguyên tố ngẫu nhiên trong giá trị n bit nhất định:"
      ]
    },
    {
      "cell_type": "code",
      "source": [
        "# Nguồn: https://www.geeksforgeeks.org/how-to-generate-large-prime-numbers-for-rsa-algorithm/\n",
        "# Danh sách các số nguyên tố tạo trước để kiểm\n",
        "first_primes_list = [2, 3, 5, 7, 11, 13, 17, 19, 23, 29,\n",
        "                     31, 37, 41, 43, 47, 53, 59, 61, 67,\n",
        "                     71, 73, 79, 83, 89, 97, 101, 103,\n",
        "                     107, 109, 113, 127, 131, 137, 139,\n",
        "                     149, 151, 157, 163, 167, 173, 179,\n",
        "                     181, 191, 193, 197, 199, 211, 223,\n",
        "                     227, 229, 233, 239, 241, 251, 257,\n",
        "                     263, 269, 271, 277, 281, 283, 293,\n",
        "                     307, 311, 313, 317, 331, 337, 347, 349]\n",
        " \n",
        " # Tạo 1 số lẻ có n bit trong khoảng 2**(n-1)+1 and 2**n-1 \n",
        " # Do tất cả các số nguyên tố (> 2) đều là số lẻ nên để có hiệu suất tốt hơn, chỉ có thể chọn số lẻ\n",
        " # Input: (Int) n = số bit\n",
        " # Output: (Int) 1 số lẻ ngẫu nhiên n bit\n",
        "def nBitRandom(n):\n",
        "    return random.randrange(2**(n-1)+1, 2**n - 1)\n",
        " \n",
        " # Tạo một số chia hết bởi số nguyên tố đầu tiên. \n",
        " # Bước này là một bài kiểm tra tính nguyên tố ở mức độ thấp.\n",
        " # Yêu cầu tính toán trước vài trăm số nguyên tố đầu tiên (sử dụng sàng của Eratosthenes)\n",
        " # 1 số được chia cho các số nguyên tố (được tạo trước) để kiểm tra tính chia hết. \n",
        " # Nếu chia hết, phép thử không thành công và một số mới phải được chọn và kiểm tra. \n",
        " # Bước trên được lặp đi lặp lại miễn là tìm thấy một giá trị nguyên tố cùng nhau \n",
        " # với tất cả các số nguyên tố trong danh sách số nguyên tố đã tạo\n",
        " # Input: (Int) n = số bit\n",
        " # Output: (Int) số nguyên tố cùng nhau (chỉ là kiểm bước 1)\n",
        "def getLowLevelPrime(n):\n",
        "    '''Generate a prime candidate divisible\n",
        "    by first primes'''\n",
        "    while True:\n",
        "        # Lấy số ngẫu nhiên\n",
        "        pc = nBitRandom(n)\n",
        " \n",
        "        # Kiểm tra tính chia hết của các số nguyên tố đã cho trước\n",
        "        for divisor in first_primes_list:\n",
        "            if pc % divisor == 0 and divisor**2 <= pc:\n",
        "                break\n",
        "        # Nếu không tìm thấy số chia, trả về giá trị\n",
        "        else: return pc\n",
        " \n",
        " # Khi đã vượt qua hàm kiểm tra cấp thấp getLowLevelPrime(), thì sẽ được kiểm tra lại bằng Bài kiểm tra tính nguyên tố Rabin Miller.\n",
        " # Nếu một số sau khi kiểm tra ở cấp thấp, khi qua một lần lặp lại của bài kiểm tra Rabin Miller, thì xác suất của số đó là số nguyên tố là 75%.\n",
        " # Do đó, nếu số vượt qua bài kiểm tra với đủ số lần, có thể được coi là số nguyên tố với mức xác suất thỏa mãn.\n",
        " # Input:(Int) số nguyên tố cần kiểm tra\n",
        " # Output: (Bool) True = là số nguyên tố đúng, False = không là số nguyên tố\n",
        "def isMillerRabinPassed(mrc):\n",
        "    '''Run 20 iterations of Rabin Miller Primality test'''\n",
        "    maxDivisionsByTwo = 0\n",
        "    ec = mrc-1\n",
        "    while ec % 2 == 0:\n",
        "        ec >>= 1\n",
        "        maxDivisionsByTwo += 1\n",
        "    assert(2**maxDivisionsByTwo * ec == mrc-1)\n",
        " \n",
        "    def trialComposite(round_tester):\n",
        "        if pow(round_tester, ec, mrc) == 1:\n",
        "            return False\n",
        "        for i in range(maxDivisionsByTwo):\n",
        "            if pow(round_tester, 2**i * ec, mrc) == mrc-1:\n",
        "                return False\n",
        "        return True\n",
        " \n",
        "    # Số kiểm tra thử ở đây. Chạy 20 lần lặp lại bài kiểm tra số nguyên tố của Rabin Miller\n",
        "    numberOfRabinTrials = 20\n",
        "    for i in range(numberOfRabinTrials):\n",
        "        round_tester = random.randrange(2, mrc)\n",
        "        if trialComposite(round_tester):\n",
        "            return False\n",
        "    return True\n",
        " \n",
        " # Hàm phát sinh số nguyên tố\n",
        "# Input 1: (Int) n: số bit để khởi tạo\n",
        "# Output: (Int) prime_candidate: số nguyên tố\n",
        "def generatePrime(n=12):\n",
        "    while True:\n",
        "        prime_candidate = getLowLevelPrime(n)\n",
        "        if not isMillerRabinPassed(prime_candidate):\n",
        "            continue\n",
        "        else: return prime_candidate\n",
        "\n",
        "#---------------------------------------------------------------------------------\n",
        "print('Ví dụ: ')\n",
        "print('Số nguyên tố được tạo với 12 bit:', generatePrime())"
      ],
      "metadata": {
        "colab": {
          "base_uri": "https://localhost:8080/"
        },
        "id": "M96itxWboMUG",
        "outputId": "451704f3-7a92-4203-b373-370589fe2d63"
      },
      "execution_count": null,
      "outputs": [
        {
          "output_type": "stream",
          "name": "stdout",
          "text": [
            "Ví dụ: \n",
            "Số nguyên tố được tạo với 12 bit: 2789\n"
          ]
        }
      ]
    },
    {
      "cell_type": "markdown",
      "metadata": {
        "id": "-eeufVKovRc7"
      },
      "source": [
        "## 2. Khởi tạo khóa công khai và khóa riêng tư\n",
        "\n",
        "#### **Khóa công khai tương ứng với cặp {e, n}**\n",
        "\n",
        "Trong đó, $e$ phải: \n",
        "* $1 < e < \\phi(n)$\n",
        "* nguyên tố cùng nhau với $n$ và $\\phi(n)$\n",
        "\n",
        "$\\phi(n) = (p - 1) * (q - 1)$ = số lượng nguyên tố cùng nhau với n\n",
        "\n",
        "#### **Khóa riêng tư tương ứng với cặp {d, n}**\n",
        "\n",
        "Trong đó, $d$ phải: \n",
        "* $d e (mod \\phi(n)) = 1$"
      ]
    },
    {
      "cell_type": "code",
      "execution_count": null,
      "metadata": {
        "id": "6jwGcdM5vRc9",
        "colab": {
          "base_uri": "https://localhost:8080/"
        },
        "outputId": "e0f47cab-dc8b-4fd6-8e39-548aaf0b268d"
      },
      "outputs": [
        {
          "output_type": "stream",
          "name": "stdout",
          "text": [
            "Ví dụ: \n",
            "Hai số nguyên tố ngẫu nhiên:\n",
            "\tSố nguyên tố thứ 1:  3457\n",
            "\tSố nguyên tố thứ 2:  2281\n",
            "\n",
            "Khóa n:  7885417\n",
            "khóa E:  7062107\n",
            "Khóa D:  362963\n",
            "\n",
            "Khóa công khai (e, n): (7062107, 7885417)\n",
            "Khóa riêng tư (d, n): (362963, 7885417)\n"
          ]
        }
      ],
      "source": [
        "# Hàm phát sinh n = p * q\n",
        "# Input 1: (Int) p: số p nguyên tố bất kỳ\n",
        "# Input 2: (Int) q: số q nguyên tố bất kỳ\n",
        "# Output: (Int) khóa n\n",
        "def generateN(p, q):\n",
        "    return p * q\n",
        "\n",
        "# Hàm phát sinh phi\n",
        "# Input 1: (Int) p: số p nguyên tố bất kỳ\n",
        "# Input 2: (Int) q: số q nguyên tố bất kỳ\n",
        "# Output: (Int) số phi\n",
        "def generatePhi(p, q):\n",
        "    return (p-1) * (q-1)\n",
        "\n",
        "# Khóa E \n",
        "# Hàm phát sinh e (e với n  là khóa công khai)\n",
        "# Input 1: (Int) p: số p nguyên tố bất kỳ\n",
        "# Input 2: (Int) q: số q nguyên tố bất kỳ\n",
        "# Output: (Int) e = khóa e\n",
        "def generateE(p, q):\n",
        "    phi = generatePhi(p, q)\n",
        "\n",
        "    for e in range(random.randrange(3, phi-1, 2), phi-1):\n",
        "        if gcd(e, phi) == 1: return e\n",
        "\n",
        "# Hàm phát sinh D (d với n này được coi là khóa riêng tư)\n",
        "# Input : (Int) e: số e (Khóa E)\n",
        "# Output: (Int) d: khóa d\n",
        "def generateD(e):\n",
        "    phi = generatePhi(p, q)\n",
        "\n",
        "    d = int(phi / e)\n",
        "    while (True):\n",
        "        if (d * e) % phi == 1: return d\n",
        "        d += 1\n",
        "\n",
        "#---------------------------------------------------------------------------------\n",
        "print('Ví dụ: ')\n",
        "# Tạo 2 số p, q nguyên tố ngẫu nhiên\n",
        "p = generatePrime()\n",
        "q = generatePrime()\n",
        "\n",
        "# Nếu p mà trùng q, thì ta phải tạo lại q. Vì p và q phải khác nhau.\n",
        "while (p == q):\n",
        "    q = generatePrime()\n",
        "\n",
        "print('Hai số nguyên tố ngẫu nhiên:')\n",
        "print('\\tSố nguyên tố thứ 1: ', p)\n",
        "print('\\tSố nguyên tố thứ 2: ', q)\n",
        "\n",
        "n = generateN(p, q)\n",
        "e = generateE(p, q)\n",
        "d = generateD(e)\n",
        "\n",
        "print('\\nKhóa n: ', n)\n",
        "print('khóa E: ', e)\n",
        "print('Khóa D: ', d)\n",
        "\n",
        "print('\\nKhóa công khai (e, n): (%d, %d)' %(e, n))\n",
        "print('Khóa riêng tư (d, n): (%d, %d)' %(d, n))"
      ]
    },
    {
      "cell_type": "markdown",
      "metadata": {
        "id": "PtUDJXlXvRc_"
      },
      "source": [
        "## 3. Thuật toán mã hóa và giải mã\n",
        "\n",
        "Công thức để mã hóa và giải mã các tin nhắn là như nhau. Tất cả các tin nhắn được mã hóa bằng khóa công khai chỉ có thể được giải mã bằng khóa riêng tư và các tin nhắn được mã hóa bằng khóa riêng tư chỉ có thể được giải mã bằng khóa công khai."
      ]
    },
    {
      "cell_type": "code",
      "execution_count": null,
      "metadata": {
        "id": "JQtXI2PFvRdA"
      },
      "outputs": [],
      "source": [
        "decrypted = [encryptAndDecrypt(i, dKey, nKey) for i in encrypted]\n",
        "\n",
        "# Hàm mã hóa và giải mã\n",
        "# Input 1: (Int) des: số dạng thập phân được mã hóa từ 1 thành phần tin\n",
        "# Input 2: (Int) edKey: khóa e hoặc d\n",
        "# Input 3: (Int) n: số n trong cặp khóa\n",
        "# Output: (Int) res: số dạng thập phân đã được giải mã\n",
        "def encryptAndDecrypt(des, edKey, n):\n",
        "    res = 1  \n",
        "    des = des % n  \n",
        "      \n",
        "    if (des == 0) : return 0\n",
        "  \n",
        "    while (edKey > 0) :          \n",
        "        # Nếu khóa là số lẻ, nhân khóa với kết quả\n",
        "        if ((edKey & 1) == 1) : res = (res * des) % n \n",
        "  \n",
        "        # khóa phải là chẳn\n",
        "        edKey = edKey >> 1\n",
        "        des = (des * des) % n        \n",
        "    return res"
      ]
    },
    {
      "cell_type": "markdown",
      "metadata": {
        "id": "N9NK05BjvRdC"
      },
      "source": [
        "## 4.1. Ví dụ: mã hóa bằng khóa công khai và giải mã bằng khóa riêng tư\n",
        "Sau khi tin nhắn được mã hóa bằng khóa công khai, nó chỉ có thể được giải mã bởi chủ sở hữu khóa riêng tư. Và theo cách này, tin nhắn không thể bị sửa đổi trong quá trình truyền đi. \n",
        "\n",
        "Phát sinh 2 số nguyên tố p,q và cặp khóa công khai:"
      ]
    },
    {
      "cell_type": "code",
      "source": [
        "# Khởi tạo 2 số p, q nguyên tố ngẫu nhiên.\n",
        "p = generatePrime()\n",
        "q = generatePrime()\n",
        "\n",
        "# Nếu p mà trùng q, thì ta phải tạo lại q, cho đến khi p,q phải khác nhau.\n",
        "while (p == q):\n",
        "    q = generatePrime()\n",
        "\n",
        "# Khởi tạo n và cặp khóa e,d \n",
        "n = generateN(p, q)\n",
        "e = generateE(p, q)\n",
        "\n",
        "print('Hai số nguyên tố ngẫu nhiên:')\n",
        "print('\\tSố nguyên tố p: ', p)\n",
        "print('\\tSố nguyên tố q: ', q)\n",
        "\n",
        "print('\\nKhóa n: ', n)\n",
        "print('khóa E: ', e)\n",
        "print('\\nKhóa công khai (e, n):')\n",
        "print('(%d, %d)' %(e, n))"
      ],
      "metadata": {
        "colab": {
          "base_uri": "https://localhost:8080/"
        },
        "id": "r917wirLk4m0",
        "outputId": "f50c1ae5-886a-4505-904d-60daafed7515"
      },
      "execution_count": 87,
      "outputs": [
        {
          "output_type": "stream",
          "name": "stdout",
          "text": [
            "Hai số nguyên tố ngẫu nhiên:\n",
            "\tSố nguyên tố p:  2447\n",
            "\tSố nguyên tố q:  2347\n",
            "\n",
            "Khóa n:  5743109\n",
            "khóa E:  2412421\n",
            "\n",
            "Khóa công khai (e, n):\n",
            "(2412421, 5743109)\n"
          ]
        }
      ]
    },
    {
      "cell_type": "markdown",
      "source": [
        "Nhập tin nhắn cần mã hóa và sao chép - dán khóa công khai đã được tạo phía trên, để khởi tạo tin nhắn mã hóa và cặp khóa riêng tư."
      ],
      "metadata": {
        "id": "G230rdiuv27v"
      }
    },
    {
      "cell_type": "code",
      "execution_count": 89,
      "metadata": {
        "id": "Uaj-alL3vRdC",
        "outputId": "4cfe24fb-0b10-48f3-a41e-691f32861a19",
        "colab": {
          "base_uri": "https://localhost:8080/"
        }
      },
      "outputs": [
        {
          "output_type": "stream",
          "name": "stdout",
          "text": [
            "Tin nhắn:\n",
            "\t con cá bống\n",
            "Tin nhắn theo chuỗi thập phân:\n",
            "\t [99, 111, 110, 32, 99, 225, 32, 98, 7889, 110, 103]\n",
            "\n",
            "Tin nhắn đã được mã hóa:\n",
            "[680440, 4002111, 2172975, 813200, 680440, 4448182, 813200, 2873186, 2542723, 2172975, 1070449]\n",
            "\n",
            "Khóa n:  5743109\n",
            "Khóa D:  3618697\n",
            "Khóa riêng tư (d, n):\n",
            "(3618697, 5743109)\n"
          ]
        }
      ],
      "source": [
        "#@title String fields\n",
        "Tin_Nhan_Can_Ma_Hoa = 'con c\\xE1 b\\u1ED1ng' #@param {type:\"string\"}\n",
        "Cap_Khoa_Cong_Khai = '(2412421, 5743109)' #@param {type:\"string\"}\n",
        "\n",
        "# Chuyển chuỗi ký tự đoạn mes sang danh sách dãy thập phân\n",
        "mesDec = convertDecAndStr(Tin_Nhan_Can_Ma_Hoa, 0)\n",
        "\n",
        "# Hàm định dạng lại input khóa\n",
        "# Input 1: (Int) txtKeys: input khóa\n",
        "# Output: (Int) listKeys: khóa đã được định dạng\n",
        "def formatPubKey(txtKeys):\n",
        "  listKeys = txtKeys.replace('(', '').replace(')', '').split(\", \")\n",
        "  listKeys = list(map(int, listKeys))\n",
        "  return listKeys\n",
        "\n",
        "eKey = formatPubKey(Cap_Khoa_Cong_Khai)[0]\n",
        "nKey = formatPubKey(Cap_Khoa_Cong_Khai)[1]\n",
        "\n",
        "# Mã hóa tin nhắn bằng khóa công khai (e)\n",
        "encrypted = [encryptAndDecrypt(i, eKey, nKey) for i in mesDec]\n",
        "\n",
        "d = generateD(eKey)\n",
        "\n",
        "print('Tin nhắn:\\n\\t', Tin_Nhan_Can_Ma_Hoa)\n",
        "print('Tin nhắn theo chuỗi thập phân:\\n\\t', mesDec)\n",
        "print('\\nTin nhắn đã được mã hóa:')\n",
        "print(encrypted)\n",
        "print('\\nKhóa n: ', n)\n",
        "print('Khóa D: ', d)\n",
        "print('Khóa riêng tư (d, n):')\n",
        "print('(%d, %d)' %(d, n))"
      ]
    },
    {
      "cell_type": "markdown",
      "source": [
        "Nhập tin nhắn đã mã hóa (chuỗi nhị phân) và sao chép - dán khóa riêng tư đã được tạo phía trên, để giải mã tin nhắn."
      ],
      "metadata": {
        "id": "Hbt38j5BxK1J"
      }
    },
    {
      "cell_type": "code",
      "source": [
        "#@title String fields\n",
        "Tin_Nhan_Can_Giai_Ma = '[680440, 4002111, 2172975, 813200, 680440, 4448182, 813200, 2873186, 2542723, 2172975, 1070449]' #@param {type:\"string\"}\n",
        "Cap_Khoa_Rieng_Tu = '(3618697, 5743109)' #@param {type:\"string\"}\n",
        "\n",
        "# Hàm định dạng lại input chuỗi thập phân tin nhắn mã hóa\n",
        "# Input 1: (Int) strList: input chuỗi thập phân tin nhắn mã hóa\n",
        "# Output: (Int) intLs: chuỗi thập phân tin nhắn mã hóa đã được định dạng\n",
        "def formatStringList(strList):\n",
        "  ls = strList.strip('][').split(', ')\n",
        "  intLs = list(map(int, ls))\n",
        "  return intLs\n",
        "\n",
        "dKey = formatPubKey(Cap_Khoa_Rieng_Tu)[0]\n",
        "nKey = formatPubKey(Cap_Khoa_Rieng_Tu)[1]\n",
        "encryptedStr = formatStringList(Tin_Nhan_Can_Giai_Ma)\n",
        "\n",
        "# Giải mã tin nhắn bằng khóa riêng tư (d)\n",
        "decrypted = [encryptAndDecrypt(i, dKey, nKey) for i in encrypted]\n",
        "print(decrypted)\n",
        "print('\\n\\nGiải mã tin nhắn:\\n\\t', convertDecAndStr(decrypted, 1))\n",
        "print('Tin nhắn theo chuỗi thập phân sau khi giải mã:\\n\\t', decrypted)\n"
      ],
      "metadata": {
        "colab": {
          "base_uri": "https://localhost:8080/"
        },
        "id": "UmgJ5ce8jFn4",
        "outputId": "6ba962f0-bf0e-4bc6-a305-c21354fd08e3"
      },
      "execution_count": 90,
      "outputs": [
        {
          "output_type": "stream",
          "name": "stdout",
          "text": [
            "[99, 111, 110, 32, 99, 225, 32, 98, 7889, 110, 103]\n",
            "\n",
            "\n",
            "Giải mã tin nhắn:\n",
            "\t con cá bống\n",
            "Tin nhắn theo chuỗi thập phân sau khi giải mã:\n",
            "\t [99, 111, 110, 32, 99, 225, 32, 98, 7889, 110, 103]\n"
          ]
        }
      ]
    },
    {
      "cell_type": "markdown",
      "metadata": {
        "id": "RLjU3MFKvRdD"
      },
      "source": [
        "## 4.2. Ví dụ: Mã hóa bằng khóa riêng tư và giải mã bằng khóa công khai\n",
        "Việc mã hóa tin nhắn bằng khóa riêng tư này lại không thực sự có ý nghĩa, vì khóa công khai được mọi người biết đến, bất kỳ ai cũng có thể giải mã được. tuy nhiên, mã hóa bằng khóa công khai được sử dụng theo cách khác là để chứng minh rằng tin nhắn thực sự đến từ chủ sở hữu của khóa riêng tư. Đó chính là ứng dụng cho chữ ký số. Người chính chủ dùng khoá riêng tư để ký tên và các người khác dùng khoá công khai để xác minh chữ ký đó có phải chính chủ không."
      ]
    },
    {
      "cell_type": "code",
      "execution_count": null,
      "metadata": {
        "id": "mka5kyUpvRdD",
        "outputId": "37ae8687-87de-442a-acfd-d69f1eb7b8fa",
        "colab": {
          "base_uri": "https://localhost:8080/"
        }
      },
      "outputs": [
        {
          "output_type": "stream",
          "name": "stdout",
          "text": [
            "Hai số nguyên tố ngẫu nhiên:\n",
            "\tSố nguyên tố p:  2237\n",
            "\tSố nguyên tố q:  3947\n",
            "\n",
            "Khóa n:  8829439\n",
            "khóa E:  4370989\n",
            "Khóa D:  5435533\n",
            "\n",
            "Khóa công khai {e, n}: {4370989, 8829439}\n",
            "Khóa riêng tư {d, n}: {5435533, 8829439}\n",
            "Chữ ký:\n",
            "\t Tôi là Thành Cry\n",
            "Chữ ký theo chuỗi thập phân:\n",
            "\t [84, 244, 105, 32, 108, 224, 32, 84, 104, 224, 110, 104, 32, 67, 114, 121]\n",
            "\n",
            "Mã hóa chữ ký:\n",
            "\t [7762543, 3880204, 5326976, 1133201, 4265264, 546198, 1133201, 7762543, 8733341, 546198, 6538639, 8733341, 1133201, 1444799, 94863, 2522262]\n",
            "\n",
            "\n",
            "Giải mã chữ ký:\n",
            "\t Tôi là Thành Cry\n",
            "Chữ ký theo chuỗi thập phân sau khi giải mã:\n",
            "\t [84, 244, 105, 32, 108, 224, 32, 84, 104, 224, 110, 104, 32, 67, 114, 121]\n"
          ]
        }
      ],
      "source": [
        "sig = 'Tôi là Thành Cry'\n",
        "sigDec = convertDecAndStr(sig, 0)\n",
        "\n",
        "# Chuyển chuỗi ký tự đoạn khóa sang danh sách dãy thập phân\n",
        "mesDec = convertDecAndStr(mes, 0)\n",
        "\n",
        "# Khởi tạo 2 số p, q nguyên tố ngẫu nhiên.\n",
        "p = generatePrime()\n",
        "q = generatePrime()\n",
        "\n",
        "# Nếu p mà trùng q, thì ta phải tạo lại q, cho đến khi p,q phải khác nhau.\n",
        "while (p == q):\n",
        "    q = generatePrime()\n",
        "\n",
        "# Khởi tạo n và cặp khóa e,d \n",
        "n = generateN(p, q)\n",
        "e = generateE(p, q)\n",
        "d = generateD(e)\n",
        "\n",
        "# Mã hóa chữ ký bằng khóa riêng tư (D)\n",
        "encrypted = [encryptAndDecrypt(i, d, n) for i in sigDec]\n",
        "\n",
        "# Giải mã chữ ký bằng khóa công khai (E)\n",
        "decrypted = [encryptAndDecrypt(i, e, n) for i in encrypted]\n",
        "\n",
        "print('Hai số nguyên tố ngẫu nhiên:')\n",
        "print('\\tSố nguyên tố p: ', p)\n",
        "print('\\tSố nguyên tố q: ', q)\n",
        "\n",
        "print('\\nKhóa n: ', n)\n",
        "print('khóa E: ', e)\n",
        "print('Khóa D: ', d)\n",
        "\n",
        "print('\\nKhóa công khai {e, n}: {%d, %d}' %(e, n))\n",
        "print('Khóa riêng tư {d, n}: {%d, %d}' %(d, n))\n",
        "\n",
        "print('Chữ ký:\\n\\t', sig)\n",
        "print('Chữ ký theo chuỗi thập phân:\\n\\t', sigDec)\n",
        "print('\\nMã hóa chữ ký:\\n\\t', encrypted)\n",
        "print('\\n\\nGiải mã chữ ký:\\n\\t', convertDecAndStr(decrypted, 1))\n",
        "print('Chữ ký theo chuỗi thập phân sau khi giải mã:\\n\\t', decrypted)\n"
      ]
    }
  ],
  "metadata": {
    "kernelspec": {
      "display_name": "Python 3",
      "language": "python",
      "name": "python3"
    },
    "language_info": {
      "codemirror_mode": {
        "name": "ipython",
        "version": 3
      },
      "file_extension": ".py",
      "mimetype": "text/x-python",
      "name": "python",
      "nbconvert_exporter": "python",
      "pygments_lexer": "ipython3",
      "version": "3.7.7"
    },
    "colab": {
      "provenance": []
    }
  },
  "nbformat": 4,
  "nbformat_minor": 0
}